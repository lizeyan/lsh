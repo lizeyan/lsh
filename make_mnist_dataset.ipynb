{
 "cells": [
  {
   "cell_type": "code",
   "execution_count": 1,
   "metadata": {
    "ExecuteTime": {
     "end_time": "2019-05-26T12:54:51.655970Z",
     "start_time": "2019-05-26T12:54:51.130390Z"
    }
   },
   "outputs": [],
   "source": [
    "from torchvision.transforms import Compose, ToTensor, Lambda\n",
    "from loguru import logger\n",
    "from torch.utils.data import DataLoader\n",
    "import numpy as np"
   ]
  },
  {
   "cell_type": "code",
   "execution_count": 2,
   "metadata": {
    "ExecuteTime": {
     "end_time": "2019-05-26T12:54:52.544911Z",
     "start_time": "2019-05-26T12:54:52.540399Z"
    }
   },
   "outputs": [],
   "source": [
    "dataset_name='MNIST'\n",
    "n_dims=50\n",
    "n_test_samples=100\n",
    "n_ground_truth=20\n",
    "output_path='outputs'"
   ]
  },
  {
   "cell_type": "code",
   "execution_count": 3,
   "metadata": {
    "ExecuteTime": {
     "end_time": "2019-05-26T12:55:47.403352Z",
     "start_time": "2019-05-26T12:55:47.155942Z"
    }
   },
   "outputs": [],
   "source": [
    "from torchvision.datasets import MNIST\n",
    "dataset_class = eval(dataset_name)\n",
    "transform = Compose([ToTensor()])\n",
    "original_train_data = dataset_class(\n",
    "    f\"{output_path}/{dataset_name}_data\", download=True, transform=transform, train=True\n",
    ")\n",
    "train_dataset_length = len(original_train_data)"
   ]
  },
  {
   "cell_type": "code",
   "execution_count": 4,
   "metadata": {
    "ExecuteTime": {
     "end_time": "2019-05-26T12:56:41.233280Z",
     "start_time": "2019-05-26T12:56:29.089789Z"
    }
   },
   "outputs": [
    {
     "name": "stderr",
     "output_type": "stream",
     "text": [
      "2019-05-26 20:56:35.330 | DEBUG    | __main__:<module>:7 - train dataset mean: 0.13066266477108002\n",
      "2019-05-26 20:56:41.229 | DEBUG    | __main__:<module>:16 - train dataset variance: 0.06725081825587355\n"
     ]
    }
   ],
   "source": [
    "loader = DataLoader(original_train_data, batch_size=4096*16, num_workers=2, shuffle=False)\n",
    "mean = np.zeros((28, 28), dtype=np.float32)\n",
    "for images, _ in loader:\n",
    "    images = np.squeeze(images.numpy())\n",
    "    mean += np.sum(images, axis=0, keepdims=False)\n",
    "mean /= train_dataset_length\n",
    "logger.debug(f\"train dataset mean: {np.mean(mean)}\")\n",
    "var = np.zeros((28, 28))\n",
    "original_train_dataset_arr = []\n",
    "for images, _ in loader:\n",
    "    images = np.squeeze(images.numpy())\n",
    "    var += np.sum((images - mean) ** 2, axis=0)\n",
    "    original_train_dataset_arr.append(images)\n",
    "original_train_dataset_arr = np.concatenate(original_train_dataset_arr)\n",
    "var /= train_dataset_length\n",
    "logger.debug(f\"train dataset variance: {np.mean(var)}\")\n",
    "del mean"
   ]
  },
  {
   "cell_type": "code",
   "execution_count": 5,
   "metadata": {
    "ExecuteTime": {
     "end_time": "2019-05-26T12:56:43.175695Z",
     "start_time": "2019-05-26T12:56:43.167032Z"
    }
   },
   "outputs": [
    {
     "name": "stderr",
     "output_type": "stream",
     "text": [
      "2019-05-26 20:56:43.172 | DEBUG    | __main__:<module>:2 - selected positions: (array([13, 14, 16, 22, 16, 15, 15, 15, 22, 14,  6,  6, 22,  6, 16,  6, 13,\n",
      "       22, 17, 17, 20, 13, 14, 13, 22, 20,  9, 19, 21,  8,  8, 15,  9, 22,\n",
      "       16, 16, 12, 20, 20, 20, 18,  8, 21,  9,  8, 12, 19, 21, 14, 19]), array([14, 14, 13, 11, 14, 14, 17, 13, 12, 17, 15, 16, 14, 14, 16, 17, 17,\n",
      "       13, 14, 15, 13, 15, 13, 18, 10, 14, 11, 14, 11, 18, 13, 16, 12, 15,\n",
      "       15, 17, 18, 16, 15, 12, 14, 14, 10, 18, 12, 17, 17, 12, 18, 15]))\n"
     ]
    }
   ],
   "source": [
    "selected_positions = np.unravel_index(np.argsort(var, axis=None)[-1:-n_dims-1:-1], np.shape(var))\n",
    "logger.debug(f\"selected positions: {selected_positions}\")\n",
    "del var"
   ]
  },
  {
   "cell_type": "code",
   "execution_count": 7,
   "metadata": {
    "ExecuteTime": {
     "end_time": "2019-05-26T12:57:04.783015Z",
     "start_time": "2019-05-26T12:57:04.553003Z"
    }
   },
   "outputs": [
    {
     "name": "stderr",
     "output_type": "stream",
     "text": [
      "2019-05-26 20:57:04.595 | DEBUG    | __main__:<module>:2 - selected train dataset shape: (60000, 50)\n"
     ]
    }
   ],
   "source": [
    "train_arr = original_train_dataset_arr[:, selected_positions[0], selected_positions[1]]\n",
    "logger.debug(f\"selected train dataset shape: {np.shape(train_arr)}\")\n",
    "fp = np.memmap(f\"{output_path}/train_arr\", dtype='float32', mode='w+', shape=np.shape(train_arr))\n",
    "fp[:] = train_arr[:]\n",
    "del fp\n",
    "del original_train_dataset_arr"
   ]
  },
  {
   "cell_type": "code",
   "execution_count": 8,
   "metadata": {
    "ExecuteTime": {
     "end_time": "2019-05-26T12:57:18.389595Z",
     "start_time": "2019-05-26T12:57:17.286530Z"
    }
   },
   "outputs": [
    {
     "name": "stderr",
     "output_type": "stream",
     "text": [
      "2019-05-26 20:57:18.343 | DEBUG    | __main__:<module>:13 - selected test dataset shape: (100, 50)\n"
     ]
    }
   ],
   "source": [
    "original_test_data = dataset_class(\n",
    "    f\"{output_path}/{dataset_name}_data\", download=True, transform=transform, train=False\n",
    ")\n",
    "loader = DataLoader(original_test_data, batch_size=4096*16, num_workers=2, shuffle=False)\n",
    "original_test_dataset_arr = []\n",
    "for images, _ in loader:\n",
    "    images = np.squeeze(images.numpy())\n",
    "    original_test_dataset_arr.append(images)\n",
    "original_test_dataset_arr = np.concatenate(original_test_dataset_arr)\n",
    "\n",
    "test_arr = original_test_dataset_arr[:, selected_positions[0], selected_positions[1]]\n",
    "test_arr = test_arr[:n_test_samples]\n",
    "logger.debug(f\"selected test dataset shape: {np.shape(test_arr)}\")\n",
    "fp = np.memmap(f\"{output_path}/test_arr\", dtype='float32', mode='w+', shape=np.shape(test_arr))\n",
    "fp[:] = test_arr[:]\n",
    "del fp\n",
    "del original_test_dataset_arr"
   ]
  },
  {
   "cell_type": "code",
   "execution_count": 16,
   "metadata": {
    "ExecuteTime": {
     "end_time": "2019-05-26T13:00:46.598707Z",
     "start_time": "2019-05-26T13:00:45.385477Z"
    }
   },
   "outputs": [],
   "source": [
    "distances = np.sum(np.square(np.expand_dims(test_arr, 1) - np.expand_dims(train_arr, 0)), axis=-1)\n",
    "ground_truth = np.argmin(distances, axis=-1)\n",
    "fp = np.memmap(f\"{output_path}/ground_truth\", dtype='float32', mode='w+', shape=np.shape(ground_truth))\n",
    "fp[:] = ground_truth[:]\n",
    "del fp"
   ]
  },
  {
   "cell_type": "code",
   "execution_count": null,
   "metadata": {},
   "outputs": [],
   "source": []
  }
 ],
 "metadata": {
  "kernelspec": {
   "display_name": "Python 3",
   "language": "python",
   "name": "python3"
  },
  "language_info": {
   "codemirror_mode": {
    "name": "ipython",
    "version": 3
   },
   "file_extension": ".py",
   "mimetype": "text/x-python",
   "name": "python",
   "nbconvert_exporter": "python",
   "pygments_lexer": "ipython3",
   "version": "3.7.2"
  },
  "latex_envs": {
   "LaTeX_envs_menu_present": true,
   "autoclose": false,
   "autocomplete": true,
   "bibliofile": "biblio.bib",
   "cite_by": "apalike",
   "current_citInitial": 1,
   "eqLabelWithNumbers": true,
   "eqNumInitial": 1,
   "hotkeys": {
    "equation": "Ctrl-E",
    "itemize": "Ctrl-I"
   },
   "labels_anchors": false,
   "latex_user_defs": false,
   "report_style_numbering": false,
   "user_envs_cfg": false
  },
  "toc": {
   "base_numbering": 1,
   "nav_menu": {},
   "number_sections": true,
   "sideBar": true,
   "skip_h1_title": false,
   "title_cell": "Table of Contents",
   "title_sidebar": "Contents",
   "toc_cell": false,
   "toc_position": {},
   "toc_section_display": true,
   "toc_window_display": false
  },
  "varInspector": {
   "cols": {
    "lenName": 16,
    "lenType": 16,
    "lenVar": 40
   },
   "kernels_config": {
    "python": {
     "delete_cmd_postfix": "",
     "delete_cmd_prefix": "del ",
     "library": "var_list.py",
     "varRefreshCmd": "print(var_dic_list())"
    },
    "r": {
     "delete_cmd_postfix": ") ",
     "delete_cmd_prefix": "rm(",
     "library": "var_list.r",
     "varRefreshCmd": "cat(var_dic_list()) "
    }
   },
   "types_to_exclude": [
    "module",
    "function",
    "builtin_function_or_method",
    "instance",
    "_Feature"
   ],
   "window_display": true
  }
 },
 "nbformat": 4,
 "nbformat_minor": 2
}
